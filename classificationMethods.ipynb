{
 "cells": [
  {
   "cell_type": "markdown",
   "metadata": {
    "id": "FV_nMaRFtPsu"
   },
   "source": [
    "# Homework assignment 4 - Classification"
   ]
  },
  {
   "cell_type": "markdown",
   "metadata": {
    "id": "Aeqq4GhXtPs3"
   },
   "source": [
    "### Importing Packages\n",
    "\n",
    "Importing the NumPy, Pandas and Matplotlib packages."
   ]
  },
  {
   "cell_type": "code",
   "execution_count": 4,
   "metadata": {
    "id": "Pk_UBbbGtPs4",
    "vscode": {
     "languageId": "python"
    }
   },
   "outputs": [],
   "source": [
    "import numpy as np\n",
    "import pandas as pd\n",
    "import matplotlib.pyplot as plt\n",
    "\n",
    "## This line makes matplotlib plot the figures inside the notebook\n",
    "%matplotlib inline\n",
    "\n",
    "## Set some default values of the the matplotlib plots\n",
    "plt.rcParams['figure.figsize'] = (8.0, 8.0)  # Set default plot's sizes\n",
    "plt.rcParams['axes.grid'] = True  # Show grid by default in figures"
   ]
  },
  {
   "cell_type": "markdown",
   "metadata": {
    "id": "bM9DUltltPs5"
   },
   "source": [
    "## Digits Dataset\n",
    "\n",
    "For this task, we will use a dataset of 1797 digits collected from 43 people. Each digit is an image of 8x8 pixels taking integer values between 0 and 16. More details about the dataset can be found [here](https://archive.ics.uci.edu/ml/datasets/Optical+Recognition+of+Handwritten+Digits). \n",
    "\n",
    "To load the data, we will use the scikit-learn's function [sklearn.datasets.load_digits](https://scikit-learn.org/stable/modules/generated/sklearn.datasets.load_digits.html)."
   ]
  },
  {
   "cell_type": "code",
   "execution_count": 5,
   "metadata": {
    "colab": {
     "base_uri": "https://localhost:8080/",
     "height": 521
    },
    "id": "4fK91QTItPs6",
    "outputId": "ea60cf69-93de-4254-f1a3-38ccfed0c983",
    "vscode": {
     "languageId": "python"
    }
   },
   "outputs": [
    {
     "name": "stdout",
     "output_type": "stream",
     "text": [
      "Number of images in the dataset: 1797\n",
      "Each images size is: (8, 8)\n",
      "These are the first 80 images:\n"
     ]
    },
    {
     "data": {
      "image/png": "[encoded data removed]",
      "text/plain": [
       "<Figure size 576x576 with 80 Axes>"
      ]
     },
     "metadata": {},
     "output_type": "display_data"
    }
   ],
   "source": [
    "from sklearn.datasets import load_digits\n",
    "dataset = load_digits()\n",
    "\n",
    "x = dataset.images\n",
    "y = dataset.target\n",
    "\n",
    "print('Number of images in the dataset: {}'.format(len(x)))\n",
    "print('Each images size is: {}'.format(x.shape[1:]))\n",
    "print('These are the first 80 images:')\n",
    "\n",
    "fig, ax_array = plt.subplots(10, 8)\n",
    "for i, ax in enumerate(ax_array.flat):\n",
    "    ax.imshow(x[i], cmap='gray')\n",
    "    ax.set_ylabel(y[i])\n",
    "    ax.set_yticks([])\n",
    "    ax.set_xticks([])"
   ]
  },
  {
   "cell_type": "markdown",
   "metadata": {
    "id": "-8z8fmlwtPs7"
   },
   "source": [
    "## Train-Validation-Test split\n",
    "\n",
    "✍️ Complete the code below to split the data into 60% train 20% validation set set and 20% test set"
   ]
  },
  {
   "cell_type": "code",
   "execution_count": 6,
   "metadata": {
    "id": "BnKS3ylatPs8",
    "vscode": {
     "languageId": "python"
    }
   },
   "outputs": [],
   "source": [
    "n_samples = x.shape[0]  # The total number of samples in the dataset\n",
    "\n",
    "## Generate a random generator with a fixed seed\n",
    "rand_gen = np.random.RandomState(0)\n",
    "\n",
    "## %%%%%%%%%%%%%%% Your code here - Begin %%%%%%%%%%%%%%%\n",
    "## Generating a shuffled vector of indices\n",
    "indices = np.arange(n_samples)\n",
    "rand_gen.shuffle(indices)\n",
    "\n",
    "## Split the indices into 60% train / 20% validation / 20% test\n",
    "n_samples_train_full = int(n_samples * 0.8)\n",
    "train_full_indices = indices[:n_samples_train_full]\n",
    "\n",
    "test_indices = indices[n_samples_train_full:]\n",
    "\n",
    "n_samples_train = int(n_samples_train_full*0.75)\n",
    "train_indices = indices[:n_samples_train]\n",
    "val_indices = indices[n_samples_train:n_samples_train_full]\n",
    "\n",
    "## %%%%%%%%%%%%%%% Your code here - End %%%%%%%%%%%%%%%%%\n",
    "\n",
    "## Extract the sub datasets from the full dataset using the calculated indices\n",
    "x_train = x[train_indices]\n",
    "y_train = y[train_indices]\n",
    "x_val = x[val_indices]\n",
    "y_val = y[val_indices]\n",
    "x_test = x[test_indices]\n",
    "y_test = y[test_indices]"
   ]
  },
  {
   "cell_type": "markdown",
   "metadata": {
    "id": "Vfov1cMftPs9"
   },
   "source": [
    "## The task"
   ]
  },
  {
   "cell_type": "markdown",
   "metadata": {
    "id": "PyHMZ4pXtPs9"
   },
   "source": [
    "Our task here is to be able to predict the correct label (name of the person) given an image of his face. Formally, we would like to find a classifier $h(\\boldsymbol{x})$, which would minimize the misclassification rate:\n",
    "$$\n",
    "R\\{h\\}=E\\left[I\\{h(\\boldsymbol{x})\\neq y\\}\\right]\n",
    "$$\n",
    "\n",
    "Here $\\boldsymbol{x}$ is the measured data, which is in our case the images, and $y$ is the label of the image.\n",
    "\n",
    "✍️ Complete the code below so that it will compute the misclassification rate of a given predictor on a given dataset."
   ]
  },
  {
   "cell_type": "code",
   "execution_count": 8,
   "metadata": {
    "colab": {
     "base_uri": "https://localhost:8080/"
    },
    "id": "lRbimbBatPs-",
    "outputId": "a32ff02d-fb15-44f8-9a30-d91d6f9b21af",
    "vscode": {
     "languageId": "python"
    }
   },
   "outputs": [
    {
     "name": "stdout",
     "output_type": "stream",
     "text": [
      "The score on the test set is: 0.9028\n"
     ]
    }
   ],
   "source": [
    "def calc_score(h_func, x, y):\n",
    "    \"\"\"\n",
    "    Calculates the misclassification rate of a predictor on a given dataset.\n",
    "\n",
    "    Using:\n",
    "    - N: the number of samples in the dataset.\n",
    "    - ImageSize: the size of the image (in our case 8x8).\n",
    "\n",
    "    Parameters\n",
    "    ----------\n",
    "    h_func: a function\n",
    "        The prediction function which recived an input x and produces a prediction y_hat\n",
    "    x: ndarray\n",
    "        The NxImageSize array of the features of the dataset.\n",
    "    y: ndarray\n",
    "        The 1D array of length N of the labels of the dataset.\n",
    "    \n",
    "    Returns\n",
    "    -------\n",
    "    score: scalar\n",
    "        The evaluated score on the dataset.\n",
    "    \"\"\"\n",
    "\n",
    "    ## %%%%%%%%%%%%%%% Your code here - Begin %%%%%%%%%%%%%%%\n",
    "    y_hat = h_func(x)\n",
    "    score = np.sum(np.not_equal(y_hat,y))/len(y_hat)\n",
    "    ## %%%%%%%%%%%%%%% Your code here - End %%%%%%%%%%%%%%%%%\n",
    "    return score\n",
    "\n",
    "## Test the function on a prediction function which always output 1\n",
    "h_func = lambda x: np.ones(x.shape[0], dtype=int)\n",
    "\n",
    "print(f'The score on the test set is: {calc_score(h_func, x_test, y_test):.4f}')"
   ]
  },
  {
   "cell_type": "markdown",
   "metadata": {
    "id": "K6FZFtMetPs-"
   },
   "source": [
    "## 1-NN Classification\n",
    "\n",
    "Lets us now try to classify the images using 1-nearest neighbor (1-NN). \n",
    "\n",
    "✍️ Complete the following code to implement the 1-NN classification.\n",
    "\n",
    "- Use the [cdist](https://docs.scipy.org/doc/scipy/reference/generated/scipy.spatial.distance.cdist.html) function, which we encountered in the last assignment, to calculate the matrix of all distances between two sets of vectors."
   ]
  },
  {
   "cell_type": "code",
   "execution_count": 9,
   "metadata": {
    "colab": {
     "base_uri": "https://localhost:8080/",
     "height": 544
    },
    "id": "I1wjlZiftPs-",
    "outputId": "e019cd31-9c11-40d0-f74d-1f9819f0643b",
    "vscode": {
     "languageId": "python"
    }
   },
   "outputs": [
    {
     "name": "stdout",
     "output_type": "stream",
     "text": [
      "The score on the validation set is: 0.0167\n"
     ]
    },
    {
     "data": {
      "image/png": "[encoded data removed]",
      "text/plain": [
       "<Figure size 576x576 with 80 Axes>"
      ]
     },
     "metadata": {},
     "output_type": "display_data"
    }
   ],
   "source": [
    "from scipy.spatial.distance import cdist\n",
    "\n",
    "def one_nn(x, x_train, y_train):\n",
    "    \"\"\"\n",
    "    Calculates the estimated labels for a given set of features using the 1-NN method. \n",
    "\n",
    "    Using:\n",
    "    - N: the number of samples in the train set.\n",
    "    - M: the number of samples for which the labels are to be estimated.\n",
    "    - ImageSize: the size of the image (in our case 8x8).\n",
    "   \n",
    "    Parameters\n",
    "    ----------\n",
    "    x: ndarray\n",
    "        The MxImageSize 2D array of features for which the labels are to be estimated.\n",
    "    x_train: ndarray\n",
    "        The NxImageSize 2D array of the features of the train set.\n",
    "    y_train: ndarray\n",
    "        The 1D array of length N of the labels of the train set.\n",
    "    \n",
    "    Returns\n",
    "    -------\n",
    "    y_hat: ndarray\n",
    "        The 1D array of length M of the estimated labels.\n",
    "    \"\"\"\n",
    "    \n",
    "    #x = x.reshape(x.shape[0], -1)\n",
    "    #x_train = x_train.reshape(x_train.shape[0], -1)\n",
    "\n",
    "    ## %%%%%%%%%%%%%%% Your code here - Begin %%%%%%%%%%%%%%%\n",
    "    y_hat = np.zeros(x.shape[0])\n",
    "    for i,m in enumerate(x):\n",
    "      min = ((m-x_train[0])**2).sum()\n",
    "      for j,n in enumerate(x_train):\n",
    "        dists = ((m-n)**2).sum()\n",
    "        if(dists <= min):\n",
    "          y_hat[i] = y_train[j]\n",
    "          min = dists \n",
    "    ## %%%%%%%%%%%%%%% Your code here - End %%%%%%%%%%%%%%%%%\n",
    "\n",
    "    return y_hat\n",
    "\n",
    "## Define a prediction function\n",
    "h_func = lambda x: one_nn(x, x_train, y_train)\n",
    "\n",
    "## Calcualte the score on the validation set\n",
    "print(f'The score on the validation set is: {calc_score(h_func, x_val, y_val):.4f}')\n",
    "\n",
    "## Plot the prediction\n",
    "fig, ax_array = plt.subplots(10, 8)\n",
    "for i, ax in enumerate(ax_array.flat):\n",
    "    ax.imshow(x_val[i], cmap='gray')\n",
    "    ax.set_yticks([])\n",
    "    ax.set_xticks([])\n",
    "    y_hat = h_func(x_val[i:(i+1)])[0]\n",
    "    ax.set_ylabel(f'{y_hat} ({y_val[i]})',\n",
    "                     color='black' if y_hat == y_val[i] else 'red')\n",
    "fig.suptitle('Predicted (Correct) Digits; Incorrect in Red', size=14);\n"
   ]
  },
  {
   "cell_type": "markdown",
   "metadata": {
    "id": "QzGhZQu3tPs_"
   },
   "source": [
    "You should get a score of below 5% on the validation set."
   ]
  },
  {
   "cell_type": "markdown",
   "metadata": {
    "id": "PmJDx5qxtPs_"
   },
   "source": [
    "## sklearn.neighbors.KNeighborsClassifier\n",
    "\n",
    "The class [sklearn.neighbors.KNeighborsClassifier](https://scikit-learn.org/stable/modules/generated/sklearn.neighbors.KNeighborsClassifier.html) implements the K-NN algorithm.\n",
    "\n",
    "✍️ Read the function's documentation and fill in the following code run 1-NN using scikit-learn's class.\n",
    "\n",
    "- You will need to reshape the data from Nx8x8 to Nx64."
   ]
  },
  {
   "cell_type": "code",
   "execution_count": 10,
   "metadata": {
    "colab": {
     "base_uri": "https://localhost:8080/"
    },
    "id": "S8d857actPs_",
    "outputId": "16d1592a-89eb-401d-988c-2d472ed40478",
    "vscode": {
     "languageId": "python"
    }
   },
   "outputs": [
    {
     "name": "stdout",
     "output_type": "stream",
     "text": [
      "The score on the validation set is: 0.0167\n"
     ]
    }
   ],
   "source": [
    "from sklearn.neighbors import KNeighborsClassifier\n",
    "\n",
    "## %%%%%%%%%%%%%%% Your code here - Begin %%%%%%%%%%%%%%%\n",
    "classifier = KNeighborsClassifier(n_neighbors=1)\n",
    "x_train = x_train.reshape(x_train.shape[0], -1)\n",
    "classifier.fit(x_train,y_train)\n",
    "## %%%%%%%%%%%%%%% Your code here - End %%%%%%%%%%%%%%%%%\n",
    "\n",
    "h_func = lambda x: classifier.predict(x.reshape(x.shape[0], -1))\n",
    "\n",
    "print(f'The score on the validation set is: {calc_score(h_func, x_val, y_val):.4f}')"
   ]
  },
  {
   "cell_type": "markdown",
   "metadata": {
    "id": "JBbNbg-jtPtA"
   },
   "source": [
    "You should get more or less the same score as you got before."
   ]
  },
  {
   "cell_type": "markdown",
   "metadata": {
    "id": "CU2LhIhOtPtA"
   },
   "source": [
    "## Selecting K\n",
    "\n",
    "We will use the validation set to select K.\n",
    "\n",
    "✍️ Complete the following code to calculate the model's score on the train set and the validation set for each value of K in the given list of Ks:"
   ]
  },
  {
   "cell_type": "code",
   "execution_count": 11,
   "metadata": {
    "colab": {
     "base_uri": "https://localhost:8080/",
     "height": 515
    },
    "id": "aKjpPydwtPtA",
    "outputId": "22369902-936a-4d45-d63b-185a738a6fa6",
    "vscode": {
     "languageId": "python"
    }
   },
   "outputs": [
    {
     "data": {
      "image/png": "[encoded data removed]",
      "text/plain": [
       "<Figure size 576x576 with 1 Axes>"
      ]
     },
     "metadata": {
      "needs_background": "light"
     },
     "output_type": "display_data"
    }
   ],
   "source": [
    "k_values = np.arange(1, 30)\n",
    "\n",
    "train_scores = {}\n",
    "val_scores = {}\n",
    "x_train_vec = x_train.reshape(x_train.shape[0], -1)\n",
    "\n",
    "for k in k_values:\n",
    "    ## %%%%%%%%%%%%%%% Your code here - Begin %%%%%%%%%%%%%%%\n",
    "    classifier = KNeighborsClassifier(n_neighbors=k)\n",
    "    classifier.fit(x_train_vec,y_train)\n",
    "    h_func = lambda x: classifier.predict(x.reshape(x.shape[0], -1))\n",
    "\n",
    "    train_scores[k] = calc_score(h_func, x_train, y_train)\n",
    "    val_scores[k] = calc_score(h_func, x_val, y_val)\n",
    "    ## %%%%%%%%%%%%%%% Your code here - End %%%%%%%%%%%%%%%%%\n",
    "\n",
    "fig, ax = plt.subplots()\n",
    "ax.plot(list(train_scores.keys()), list(train_scores.values()), label='Train')\n",
    "ax.plot(list(val_scores.keys()), list(val_scores.values()), label='Validation')\n",
    "ax.set_ylabel('Misclass. rate')\n",
    "ax.set_xlabel('$K$')\n",
    "ax.set_title('Score vs. K')\n",
    "ax.legend();"
   ]
  },
  {
   "cell_type": "markdown",
   "metadata": {
    "id": "Rt4GdqNXtPtB"
   },
   "source": [
    "The following code selects the K which produces the minimal score in the validation and calculates the score for K-NN with the selected K."
   ]
  },
  {
   "cell_type": "code",
   "execution_count": 12,
   "metadata": {
    "colab": {
     "base_uri": "https://localhost:8080/"
    },
    "id": "Sf8tLRihtPtB",
    "outputId": "5b6af060-f823-4435-d6a4-c1ba2196e5f6",
    "vscode": {
     "languageId": "python"
    }
   },
   "outputs": [
    {
     "name": "stdout",
     "output_type": "stream",
     "text": [
      "The best K is: 1, with a validation score of 0.0167\n"
     ]
    }
   ],
   "source": [
    "best_k = min(val_scores.keys(), key=val_scores.get)\n",
    "print(f'The best K is: {best_k}, with a validation score of {val_scores[best_k]:.4f}')"
   ]
  },
  {
   "cell_type": "code",
   "execution_count": 13,
   "metadata": {
    "colab": {
     "base_uri": "https://localhost:8080/"
    },
    "id": "oVMlmBxsug5P",
    "outputId": "a31af65d-0fc1-4d91-ebd3-29986513972d",
    "vscode": {
     "languageId": "python"
    }
   },
   "outputs": [
    {
     "data": {
      "text/plain": [
       "dtype('float64')"
      ]
     },
     "execution_count": 13,
     "metadata": {},
     "output_type": "execute_result"
    }
   ],
   "source": [
    "counts = [np.count_nonzero(y_train == y)/len(y_train) for y in range(1,10)]\n",
    "s = np.zeros((10,x.shape[1]))\n",
    "s.shape\n",
    "x.dtype"
   ]
  },
  {
   "cell_type": "markdown",
   "metadata": {
    "id": "0igLqgCMtPtB"
   },
   "source": [
    "Depending on the way you have splitted the data you can get different Ks but it should be relatively small."
   ]
  },
  {
   "cell_type": "markdown",
   "metadata": {
    "id": "TJCylDaNtPtC"
   },
   "source": [
    "## LDA\n",
    "\n",
    "We will now try to use linear discrimination analysis (LDA) method.\n",
    "\n",
    "✍️ Fill in the code below to create an LDA class which can train a model and use it to make predictions.\n",
    "\n",
    "- Reminder, the model's parameters are:\n",
    "  - The mean values for each class\n",
    "  - The covariance matrix for all classes.\n",
    "  - The prior distribution of each class.\n",
    "- The optimal prediction for the misclassification rate is:\n",
    "  $$\n",
    "  h(\\boldsymbol{x})=\\underset{y}{\\arg\\max}\\ p_{\\mathbf{x}|\\text{y}}(\\boldsymbol{x}|y)p_{\\text{y}}(y)\n",
    "  $$\n",
    "  - *Optional*: The term $\\left(\\boldsymbol{x}-\\boldsymbol{\\mu}\\right)^T\\Sigma^{-1}\\left(\\boldsymbol{x}-\\boldsymbol{\\mu}\\right)$, which appears in $p\\left(\\boldsymbol{x}|y\\right)$, is called the [Mahalanobis distance](https://en.wikipedia.org/wiki/Mahalanobis_distance) between $\\boldsymbol{x}$ and $\\boldsymbol{\\mu}$ based on the covariance matrix $\\Sigma$. You can use the **cdist** function to calculate all the Mahalanobis distances between a set of $\\boldsymbol{x}$'s and a set of $\\boldsymbol{\\mu}$'s. This can be done using the **'mahalanobis'** metric and adding a **VI = $\\Sigma^{-1}$** arguments to the **cdist** function."
   ]
  },
  {
   "cell_type": "code",
   "execution_count": 14,
   "metadata": {
    "colab": {
     "base_uri": "https://localhost:8080/"
    },
    "id": "CeTPxRoyssqP",
    "outputId": "5bd687ef-c450-4fb1-ef6f-95c672a13cad",
    "vscode": {
     "languageId": "python"
    }
   },
   "outputs": [
    {
     "data": {
      "text/plain": [
       "(360, 8, 8)"
      ]
     },
     "execution_count": 14,
     "metadata": {},
     "output_type": "execute_result"
    }
   ],
   "source": [
    "np.zeros((10,x.shape[1])).shape\n",
    "what = np.zeros((1,64)).reshape(x_train.shape[1:])\n",
    "x_val.shape\n"
   ]
  },
  {
   "cell_type": "code",
   "execution_count": 18,
   "metadata": {
    "colab": {
     "base_uri": "https://localhost:8080/",
     "height": 1000
    },
    "id": "pT8SK0n6tPtC",
    "outputId": "b72384a2-b27b-4b5b-c264-15f7a42cbf99",
    "vscode": {
     "languageId": "python"
    }
   },
   "outputs": [
    {
     "name": "stdout",
     "output_type": "stream",
     "text": [
      "The score on the validation set is: 0.0472\n"
     ]
    },
    {
     "data": {
      "image/png": "[encoded data removed]",
      "text/plain": [
       "<Figure size 576x576 with 1 Axes>"
      ]
     },
     "metadata": {
      "needs_background": "light"
     },
     "output_type": "display_data"
    },
    {
     "data": {
      "image/png": "[encoded data removed]",
      "text/plain": [
       "<Figure size 576x288 with 10 Axes>"
      ]
     },
     "metadata": {},
     "output_type": "display_data"
    },
    {
     "data": {
      "image/png": "[encoded data removed]",
      "text/plain": [
       "<Figure size 576x576 with 80 Axes>"
      ]
     },
     "metadata": {},
     "output_type": "display_data"
    }
   ],
   "source": [
    "class LDA:\n",
    "    def __init__(self, n_classes=10):\n",
    "        \"\"\"\n",
    "        Initizaling the class fields.\n",
    "        \n",
    "        Using:\n",
    "        - C: the number or classes.\n",
    "        - ImageSize: the size of the image (in our case 8x8).\n",
    "        - D: the dimension of the input (64).\n",
    "        \"\"\"\n",
    "        self.n_classes = n_classes  # C: The number of classes (digits).\n",
    "        \n",
    "        ## These fields are initizalized with None and then learned in the fit method.\n",
    "        self.py = None  # The prior distribution on y.\n",
    "        self.mu = None  # An CxD matirx containing the mean value vector for each class.\n",
    "        self.cov_mat = None  # The covaraince matrix of the Gaussian for all the classes\n",
    "    \n",
    "    def fit(self, x, y):\n",
    "        \"\"\"\n",
    "        Calculates the parameters of the LDA model. \n",
    "\n",
    "        Using:\n",
    "        - C: the number of classes.\n",
    "        - N: the number of samples in x.\n",
    "        - ImageSize: the size of the image (in our case 8x8).\n",
    "\n",
    "        Parameters\n",
    "        ----------\n",
    "        x: ndarray\n",
    "            The NxImageSize 2D array of features the train set.\n",
    "        y: ndarray\n",
    "            The 1D array of length N of the labels of the train set.\n",
    "        \"\"\"\n",
    "        ## %%%%%%%%%%%%%%% Your code here - Begin %%%%%%%%%%%%%%%\n",
    "        x = x.reshape(x.shape[0],-1)\n",
    "        self.mu = np.zeros((self.n_classes,x.shape[1]))\n",
    "        self.py = np.zeros((self.n_classes,1))\n",
    "\n",
    "        self.mu = np.stack([np.mean(x[y==i], axis=0) for i in range(self.n_classes)])\n",
    "        self.py = np.array([np.mean(y==i) for i in range(self.n_classes)])\n",
    "\n",
    "        x_tilde = x - self.mu[y]\n",
    "        self.cov_mat = (x_tilde.T @ x_tilde) / x.shape[0]\n",
    "        ## %%%%%%%%%%%%%%% Your code here - End %%%%%%%%%%%%%%%%%\n",
    "    \n",
    "    def predict(self, x):\n",
    "        \"\"\"\n",
    "        Calculates the parameters of the LDA model. \n",
    "\n",
    "        Using:\n",
    "        - C: the number of classes.\n",
    "        - N: the number of samples in x.\n",
    "        - ImageSize: the size of the image (in our case 8x8).\n",
    "\n",
    "        Parameters\n",
    "        ----------\n",
    "        x: ndarray\n",
    "            The NxImageSize 2D array of features for which the labels are to be estimated.\n",
    "\n",
    "        Returns\n",
    "        -------\n",
    "        y_hat: ndarray\n",
    "            The 1D array of length N of the estimated labels.\n",
    "        \"\"\"\n",
    "        ## %%%%%%%%%%%%%%% Your code here - Begin %%%%%%%%%%%%%%\n",
    "        x = x.reshape(x.shape[0], -1)\n",
    "        dists = -0.5*cdist(x, self.mu, 'mahalanobis',VI=np.linalg.pinv(self.cov_mat))**2 + np.log(self.py)\n",
    "        y_hat = np.argmax(dists,axis=1)\n",
    "        ## %%%%%%%%%%%%%%% Your code here - End %%%%%%%%%%%%%%%%%\n",
    "\n",
    "        return y_hat\n",
    "\n",
    "## Train the model on the train set\n",
    "classifier = LDA()\n",
    "classifier.fit(x_train, y_train)\n",
    "\n",
    "## Define the prediction function\n",
    "h_func = classifier.predict\n",
    "\n",
    "## Plot P(y)\n",
    "fig, ax = plt.subplots()\n",
    "ax.bar(range(classifier.n_classes), classifier.py)\n",
    "ax.set_title(r\"$f_{\\mathrm{cor, r}}$\")\n",
    "ax.set_xlabel('y')\n",
    "ax.set_ylabel('Probability')\n",
    "\n",
    "## Display the means\n",
    "fig, ax_array = plt.subplots(2, 5, figsize=(8.0, 4.0))\n",
    "for i, ax in enumerate(ax_array.flat):\n",
    "    img = classifier.mu[i].reshape(8,8)\n",
    "    ax.imshow(img, cmap='gray')\n",
    "    ax.set_yticks([])\n",
    "    ax.set_xticks([])\n",
    "    ax.set_ylabel(i)\n",
    "fig.suptitle('Mean image', size=14);\n",
    "fig.tight_layout()\n",
    "\n",
    "## Calculate the model's score on the the validation set\n",
    "print(f'The score on the validation set is: {calc_score(h_func, x_val, y_val):.4f}')\n",
    "\n",
    "## Plot estimation\n",
    "fig, ax_array = plt.subplots(10, 8)\n",
    "for i, ax in enumerate(ax_array.flat):\n",
    "    ax.imshow(x_val[i], cmap='gray')\n",
    "    ax.set_yticks([])\n",
    "    ax.set_xticks([])\n",
    "    y_hat = h_func(x_val[i:(i+1)])[0]\n",
    "    ax.set_ylabel(f'{y_hat} ({y_val[i]})',\n",
    "                     color='black' if y_hat == y_val[i] else 'red')\n",
    "fig.suptitle('Predicted (Correct) Digits; Incorrect in Red', size=14)\n",
    "fig.tight_layout()"
   ]
  },
  {
   "cell_type": "markdown",
   "metadata": {
    "id": "kRoKK7xOtPtD"
   },
   "source": [
    "You should get a score of below 5% on the validation set."
   ]
  },
  {
   "cell_type": "markdown",
   "metadata": {
    "id": "wMTPEVAjtPtD"
   },
   "source": [
    "## sklearn.discriminant_analysis.LinearDiscriminantAnalysis\n",
    "\n",
    "The class [sklearn.discriminant_analysis.LinearDiscriminantAnalysis](https://scikit-learn.org/stable/modules/generated/sklearn.discriminant_analysis.LinearDiscriminantAnalysis.html) implements the LDA algorithm.\n",
    "\n",
    "✍️ Read the function's documentation and fill in the following code run LDA using scikit-learn's class. "
   ]
  },
  {
   "cell_type": "code",
   "execution_count": 14,
   "metadata": {
    "colab": {
     "base_uri": "https://localhost:8080/"
    },
    "id": "x9rlxt2ytPtD",
    "outputId": "c3dc2e4f-dbf7-4d1e-ea45-220bd6767693",
    "vscode": {
     "languageId": "python"
    }
   },
   "outputs": [
    {
     "name": "stdout",
     "output_type": "stream",
     "text": [
      "The score on the validation set is: 0.0472\n"
     ]
    }
   ],
   "source": [
    "from sklearn.discriminant_analysis import LinearDiscriminantAnalysis\n",
    "\n",
    "## %%%%%%%%%%%%%%% Your code here - Begin %%%%%%%%%%%%%%%\n",
    "classifier = LinearDiscriminantAnalysis()\n",
    "classifier.fit(x_train,y_train)\n",
    "h_func = lambda x: classifier.predict(x.reshape(x.shape[0], -1))\n",
    "\n",
    "## %%%%%%%%%%%%%%% Your code here - End %%%%%%%%%%%%%%%%%\n",
    "\n",
    "print(f'The score on the validation set is: {calc_score(h_func, x_val, y_val):.4f}')"
   ]
  },
  {
   "cell_type": "markdown",
   "metadata": {
    "id": "TMilJouGtPtD"
   },
   "source": [
    "## Linear Logistic Regression\n",
    "\n",
    "We will now try to use linear logistic regression:\n",
    "\n",
    "$$\n",
    "p_{\\text{y}|\\mathbf{x}}(y|\\boldsymbol{x})=\\frac{e^{\\boldsymbol{x}^{\\top}\\boldsymbol{\\theta}_{y}}}{\\sum_c e^{\\boldsymbol{x}^{\\top}\\boldsymbol{\\theta}_{c}}}\n",
    "$$\n",
    "\n",
    "✍️ Fill in the code below to create an linear logistic regression class which can train a model and use it to make predictions.\n",
    "\n",
    "- Reminder, the model's parameters are $C$ vectors $\\boldsymbol{\\theta}_c$ for each class of the.\n",
    "- In practice the class stores the parameters in a single matrix $\\Theta$ which contains all the $\\boldsymbol{\\theta}_c$ vectors:\n",
    "  $$\n",
    "  \\Theta=\n",
    "  \\begin{bmatrix}\n",
    "    |&|&&|\\\\\n",
    "    \\boldsymbol{\\theta}_1&\\boldsymbol{\\theta}_2&\\dots&\\boldsymbol{\\theta}_C\\\\\n",
    "    |&|&&|\\\\\n",
    "  \\end{bmatrix}\n",
    "  $$\n",
    "- The parameters are learned by MLE (maximizing the log likelihood) using gradient descent.\n",
    "- The optimal prediction for the misclassification rate is:\n",
    "  $$\n",
    "  h(\\boldsymbol{x})=\\underset{y}{\\arg\\max}\\ p_{\\text{y}|\\mathbf{x}}(y|\\boldsymbol{x})=\\underset{y}{\\arg\\max}\\ \\boldsymbol{x}^{\\top}\\boldsymbol{\\theta}_{y}\n",
    "  $$\n",
    "- You do not need to implement the method calculating the gradient of the log likelihood. The given calc_grad_log_likelihood implements following formula:\n",
    "  $$\n",
    "  \\frac{1}{N}\\nabla_{\\Theta}\\log(\\mathcal{L})=\n",
    "  \\frac{1}{N}\\sum_i \\boldsymbol{x}^{(i)} \\left(\\boldsymbol{n}(y^{(i)})-\\text{softmax}(\\boldsymbol{x}^{(i)})^{\\top}\\right)\n",
    "  $$\n",
    "  where $\\boldsymbol{n}(c)$ is a vector of zeros except of a 1 at the $c$ position (for example $\\boldsymbol{n}(2)=[0,1,0,\\dots,0]^{\\top}$). (This is known as a one-hot representation).\n",
    "- You also do not need to implement it but the methods add a columns of ones to $X$ in order to include a bias term in the model."
   ]
  },
  {
   "cell_type": "code",
   "execution_count": 15,
   "metadata": {
    "colab": {
     "base_uri": "https://localhost:8080/",
     "height": 368
    },
    "id": "kuF1XeOMtPtE",
    "outputId": "cb44ec43-1943-4122-a79c-262c5edec6b7",
    "vscode": {
     "languageId": "python"
    }
   },
   "outputs": [
    {
     "data": {
      "text/plain": [
       "Text(0, 0.5, 'Objective')"
      ]
     },
     "execution_count": 15,
     "metadata": {},
     "output_type": "execute_result"
    },
    {
     "data": {
      "image/png": "[encoded data removed]",
      "text/plain": [
       "<Figure size 360x360 with 1 Axes>"
      ]
     },
     "metadata": {
      "needs_background": "light"
     },
     "output_type": "display_data"
    }
   ],
   "source": [
    "class LinearLogisticRegression:\n",
    "    def __init__(self):\n",
    "        \"\"\"\n",
    "        Initizaling the class fields.\n",
    "        \n",
    "        Using:\n",
    "        - C: the number or classes.\n",
    "        - ImageSize: the size of the image (in our case 8x8).\n",
    "        - D: the dimension of the input (64).\n",
    "        \"\"\"\n",
    "        \n",
    "        ## These fields is initizalized with None and then learned in the fit method.\n",
    "        self.theta = None  # A DxC matrix containing the C theta vectors.\n",
    "    \n",
    "    def calc_prob(self, x):\n",
    "        \"\"\"\n",
    "        An auxiliary function for calcualting the probabilities of all classes for a given x.\n",
    "\n",
    "        Using:\n",
    "        - N: the number of samples in x.\n",
    "        - D: the dimention of x (64)\n",
    "\n",
    "        Parameters\n",
    "        ----------\n",
    "        x: ndarray\n",
    "            The NxD 2D array of N vectors of x.\n",
    "\n",
    "        Returns\n",
    "        -------\n",
    "        prob: ndarray\n",
    "            A NxC 2D array of N probability vectors for each of the N vectors of x.\n",
    "        \n",
    "        Note\n",
    "        ----\n",
    "        This function should in fact calculate the softmax function for each row in x.\n",
    "        \"\"\"\n",
    "        \n",
    "        ## %%%%%%%%%%%%%%% Your code here - Begin %%%%%%%%%%%%%%%\n",
    "        z = x @ self.theta\n",
    "        z_i = np.exp(z)\n",
    "        sum = np.sum(z_i,axis=1)\n",
    "        prob =  np.stack([z_i[i,:]/sum[i] for i in range(z_i.shape[0])])\n",
    "        #print(f'z_i: {z_i.shape} sum: {sum.shape} prob: {prob.shape}')\n",
    "        ## %%%%%%%%%%%%%%% Your code here - End %%%%%%%%%%%%%%%%%\n",
    "\n",
    "        return prob\n",
    "\n",
    "    def log_likelihood(self, x, y):\n",
    "        \"\"\"\n",
    "        An auxiliary function for calcualting the log likelihood !!! divided by the number of samples !!!.\n",
    "\n",
    "        Using:\n",
    "        - N: the number of samples in x.\n",
    "        - D: the dimention of x (64)\n",
    "\n",
    "        Parameters\n",
    "        ----------\n",
    "        x: ndarray\n",
    "            The NxD 2D array of N vectors of x.\n",
    "        y: ndarray\n",
    "            The 1D array of length N of the labels of the train set.\n",
    "\n",
    "        Returns\n",
    "        -------\n",
    "        log_likelihood: float\n",
    "            The log likelihood of the dataset divided by the number of samples.\n",
    "        \n",
    "        Note\n",
    "        ----\n",
    "        Use the calc_prob method.\n",
    "        \n",
    "        \"\"\"\n",
    "\n",
    "        ## %%%%%%%%%%%%%%% Your code here - Begin %%%%%%%%%%%%%%%\n",
    "        softmax =  self.calc_prob(x)\n",
    "        log_softmax = np.log(softmax)/x.shape[0] \n",
    "        #add all softmax for each y\n",
    "        log_likelihood = np.sum([log_softmax[i,y[i]] for i in range(y.shape[0])]) \n",
    "        ## %%%%%%%%%%%%%%% Your code here - End %%%%%%%%%%%%%%%%%\n",
    "        return log_likelihood\n",
    "\n",
    "    def calc_grad_log_likelihood(self, x, y):\n",
    "        temp_mat = -self.calc_prob(x)\n",
    "        temp_mat[np.arange(len(y)), y] += 1\n",
    "        grad = x.T @ temp_mat / x.shape[0]\n",
    "        return grad\n",
    "        \n",
    "    def fit(self, x, y, eta, n_iters):\n",
    "        \"\"\"\n",
    "        Fitting the models parameters using gradient descent.\n",
    "\n",
    "        Using:\n",
    "        - N: the number of samples in x.\n",
    "        - ImageSize: the size of the image (in our case 8x8).\n",
    "\n",
    "        Parameters\n",
    "        ----------\n",
    "        x: ndarray\n",
    "            The NxImageSize 2D array of features the train set.\n",
    "        y: ndarray\n",
    "            The 1D array of length N of the labels of the train set.\n",
    "        eta: float\n",
    "            The learning rate of the gradient descent algorithm.\n",
    "        n_iters:\n",
    "            The number of iterations in the gradent descent.\n",
    "\n",
    "        Returns\n",
    "        -------\n",
    "        objective_list: ndarray\n",
    "            A n_iters 1D array of the intermidiate values of the objective (the minus log-likelihood).\n",
    "        \"\"\"\n",
    "        \n",
    "        x = x.reshape(x.shape[0], -1)\n",
    "        ## Add a column of ones to add a bias term\n",
    "        x = np.concatenate((x, np.ones((x.shape[0], 1))), axis=1)\n",
    "\n",
    "        ## Initialize theta\n",
    "        self.theta = np.zeros((x.shape[1], y.max() + 1))\n",
    "\n",
    "        ## Initialize lists to store intermidiate results for plotting\n",
    "        objective_list = [-self.log_likelihood(x, y)]\n",
    "\n",
    "        ## Perforing the update steps\n",
    "        for i_iter in range(1, n_iters + 1):\n",
    "            ## %%%%%%%%%%%%%%% Your code here - Begin %%%%%%%%%%%%%%%\n",
    "            ## Update theta\n",
    "            self.theta += eta * self.calc_grad_log_likelihood(x, y)\n",
    "            ## %%%%%%%%%%%%%%% Your code here - End %%%%%%%%%%%%%%%%%\n",
    "\n",
    "            ## Store intermidiate results\n",
    "            objective_list.append(-self.log_likelihood(x, y))\n",
    "\n",
    "        objective_list = np.array(objective_list)\n",
    "\n",
    "        return objective_list\n",
    "\n",
    "    def predict(self, x):\n",
    "        \"\"\"\n",
    "        Calculate the prediction for a given set of x's\n",
    "\n",
    "        Using:\n",
    "        - N: the number of samples in x.\n",
    "        - ImageSize: the size of the image (in our case 8x8).\n",
    "\n",
    "        Parameters\n",
    "        ----------\n",
    "        x: ndarray\n",
    "            The NxImageSize 2D array of N vectors of x's.\n",
    "\n",
    "        Returns\n",
    "        -------\n",
    "        y_hat: ndarray\n",
    "            A 1D array of N predictions for each of the N vectors of x.\n",
    "        \"\"\"\n",
    "        \n",
    "        x = x.reshape(x.shape[0], -1)\n",
    "        x = np.concatenate((x, np.ones((x.shape[0], 1))), axis=1)\n",
    "        \n",
    "        ## %%%%%%%%%%%%%%% Your code here - Begin %%%%%%%%%%%%%%%\n",
    "        y_hat = np.argmax(self.calc_prob(x), axis=1)\n",
    "        ## %%%%%%%%%%%%%%% Your code here - End %%%%%%%%%%%%%%%%%\n",
    "        \n",
    "        return y_hat\n",
    "\n",
    "## Test the class\n",
    "eta = 1e-4\n",
    "n_iters = 100\n",
    "classifier = LinearLogisticRegression()\n",
    "objective_list = classifier.fit(x_train, y_train, eta, n_iters)\n",
    "\n",
    "## Plot\n",
    "fig, ax = plt.subplots(figsize=(5, 5))\n",
    "ax.plot(np.arange(len(objective_list)), objective_list)\n",
    "ax.set_title(r'$\\eta={' + f'{eta:g}' + r'}$')\n",
    "ax.set_xlabel('Step')\n",
    "ax.set_ylabel('Objective')"
   ]
  },
  {
   "cell_type": "markdown",
   "metadata": {
    "id": "eqo5bkR3tPtE"
   },
   "source": [
    "You should see a graph of the objective starting at around 2.3 going down to about 1.9."
   ]
  },
  {
   "cell_type": "markdown",
   "metadata": {
    "id": "3qI9zz7utPtE"
   },
   "source": [
    "### Selecting the learning rate\n",
    "\n",
    "In order to select the learning rate we will test 4 values of $\\eta$ and plot the objective in the first 100 iterations. The following code does that."
   ]
  },
  {
   "cell_type": "code",
   "execution_count": 16,
   "metadata": {
    "colab": {
     "base_uri": "https://localhost:8080/",
     "height": 493
    },
    "id": "o8VS-IAqtPtE",
    "outputId": "cdb73f35-2a76-428b-9156-9bdc0aee49bb",
    "vscode": {
     "languageId": "python"
    }
   },
   "outputs": [
    {
     "name": "stderr",
     "output_type": "stream",
     "text": [
      "/usr/local/lib/python3.7/dist-packages/ipykernel_launcher.py:76: RuntimeWarning: divide by zero encountered in log\n",
      "/usr/local/lib/python3.7/dist-packages/ipykernel_launcher.py:40: RuntimeWarning: overflow encountered in exp\n",
      "/usr/local/lib/python3.7/dist-packages/ipykernel_launcher.py:42: RuntimeWarning: invalid value encountered in true_divide\n"
     ]
    },
    {
     "data": {
      "image/png": "[encoded data removed]",
      "text/plain": [
       "<Figure size 432x432 with 4 Axes>"
      ]
     },
     "metadata": {
      "needs_background": "light"
     },
     "output_type": "display_data"
    }
   ],
   "source": [
    "n_iters = 100\n",
    "etas_list = (1e0, 1e-1, 1e-2, 1e-3)\n",
    "\n",
    "fig, axes = plt.subplots(2, 2, figsize=(6, 6))\n",
    "classifier = LinearLogisticRegression()\n",
    "for i_eta, eta in enumerate(etas_list):\n",
    "    objective_list = classifier.fit(x_train, y_train, eta, n_iters)\n",
    "\n",
    "    ## Plot\n",
    "    ax = axes.flat[i_eta]\n",
    "    ax.plot(np.arange(len(objective_list)), objective_list)\n",
    "    ax.set_title(r'$\\eta={' + f'{eta:g}' + r'}$')\n",
    "    ax.set_xlabel('Step')\n",
    "    ax.set_ylabel('Objective')\n",
    "fig.tight_layout()"
   ]
  },
  {
   "cell_type": "markdown",
   "metadata": {
    "id": "pcE5wYMLtPtF"
   },
   "source": [
    "Select the learning rate which monotonically decays (this criteria is relevant for the simple version of gradient \n",
    "of gradient descent implemented here, it is more complicated of more sophisticated versions of gradient descent).\n",
    "\n",
    "✍️ Fill in the code below to select the learning rate and retrain the model for 50000 iterations.\n",
    "\n",
    "- Running the code should take about 2 minutes"
   ]
  },
  {
   "cell_type": "code",
   "execution_count": null,
   "metadata": {
    "id": "1biMVShttPtF",
    "vscode": {
     "languageId": "python"
    }
   },
   "outputs": [],
   "source": [
    "## %%%%%%%%%%%%%%% Your code here - Begin %%%%%%%%%%%%%%%\n",
    "eta = 0.01\n",
    "## %%%%%%%%%%%%%%% Your code here - End %%%%%%%%%%%%%%%%%\n",
    "\n",
    "n_iters = 50000\n",
    "classifier = LinearLogisticRegression()\n",
    "objective_list = classifier.fit(x_train, y_train, eta, n_iters)\n",
    "\n",
    "## Plot\n",
    "fig, ax = plt.subplots(figsize=(5, 5))\n",
    "ax.plot(np.arange(len(objective_list)), objective_list)\n",
    "ax.set_title(r'$\\eta={' + f'{eta:g}' + r'}$')\n",
    "ax.set_xlabel('Step')\n",
    "ax.set_ylabel('Objective')"
   ]
  },
  {
   "cell_type": "markdown",
   "metadata": {
    "id": "7e1Fo0-BtPtF"
   },
   "source": [
    "### Evaluating the model"
   ]
  },
  {
   "cell_type": "code",
   "execution_count": null,
   "metadata": {
    "id": "Zkavnq2etPtF",
    "vscode": {
     "languageId": "python"
    }
   },
   "outputs": [],
   "source": [
    "h_func = lambda x: classifier.predict(x)\n",
    "\n",
    "print(f'The score on the validation set is: {calc_score(h_func, x_val, y_val):.4f}')\n",
    "\n",
    "## Plot estimation\n",
    "fig, ax_array = plt.subplots(10, 8)\n",
    "for i, ax in enumerate(ax_array.flat):\n",
    "    ax.imshow(x_val[i], cmap='gray')\n",
    "    ax.set_yticks([])\n",
    "    ax.set_xticks([])\n",
    "    y_hat = h_func(x_val[i:(i+1)])[0]\n",
    "    ax.set_ylabel(f'{y_hat} ({y_val[i]})',\n",
    "                     color='black' if y_hat == y_val[i] else 'red')\n",
    "fig.suptitle('Predicted (Correct) Digits; Incorrect in Red', size=14)\n",
    "fig.tight_layout()"
   ]
  },
  {
   "cell_type": "markdown",
   "metadata": {
    "id": "DEAU4C-FtPtF"
   },
   "source": [
    "You should get a score of below 5% on the validation set."
   ]
  },
  {
   "cell_type": "markdown",
   "metadata": {
    "id": "fGN-VCPktPtF"
   },
   "source": [
    "## Selecting the best model\n",
    "\n",
    "✍️ Copy the code which generates the prediction function with the best results in the validation set."
   ]
  },
  {
   "cell_type": "code",
   "execution_count": null,
   "metadata": {
    "id": "Wj-P6G9HtPtG",
    "vscode": {
     "languageId": "python"
    }
   },
   "outputs": [],
   "source": [
    "classifier = KNeighborsClassifier(n_neighbors=1)\n",
    "x_train = x_train.reshape(x_train.shape[0], -1)\n",
    "classifier.fit(x_train,y_train)\n",
    "\n",
    "h_func = lambda x: classifier.predict(x.reshape(x.shape[0], -1))\n",
    "\n",
    "print(f'The score on the validation set is: {calc_score(h_func, x_val, y_val):.4f}')\n",
    "print(f'The score on the test set is: {calc_score(h_func, x_test, y_test):.4f}')"
   ]
  }
 ],
 "metadata": {
  "colab": {
   "name": "Copy of assignment_4_ex.ipynb",
   "provenance": []
  },
  "kernelspec": {
   "display_name": "Python 3",
   "language": "python",
   "name": "python3"
  }
 },
 "nbformat": 4,
 "nbformat_minor": 0
}
